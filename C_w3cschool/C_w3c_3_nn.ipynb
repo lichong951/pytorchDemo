{
 "metadata": {
  "language_info": {
   "codemirror_mode": {
    "name": "ipython",
    "version": 3
   },
   "file_extension": ".py",
   "mimetype": "text/x-python",
   "name": "python",
   "nbconvert_exporter": "python",
   "pygments_lexer": "ipython3",
   "version": "3.8.5-final"
  },
  "orig_nbformat": 2,
  "kernelspec": {
   "name": "python3",
   "display_name": "Python 3",
   "language": "python"
  }
 },
 "nbformat": 4,
 "nbformat_minor": 2,
 "cells": [
  {
   "cell_type": "code",
   "execution_count": null,
   "metadata": {},
   "outputs": [],
   "source": [
    "# PyTorch 神经网络\n"
   ]
  },
  {
   "cell_type": "code",
   "execution_count": 3,
   "metadata": {},
   "outputs": [],
   "source": [
    "# 定义网络\n",
    "import torch\n",
    "import torch.nn as nn\n",
    "import torch.nn.functional as F"
   ]
  },
  {
   "cell_type": "code",
   "execution_count": 15,
   "metadata": {},
   "outputs": [],
   "source": [
    "class Net(nn.Module):\n",
    "    def __init__(self):\n",
    "        super(Net,self).__init__()\n",
    "        # 输入图像channel：1；输出channel：6；5x5卷积核\n",
    "        self.conv1=nn.Conv2d(1,6,5)\n",
    "        self.conv2=nn.Conv2d(6,16,5)\n",
    "        \n",
    "        # an affine operation:y=Wx+b\n",
    "        self.fc1=nn.Linear(16*5*5,120)\n",
    "        self.fc2=nn.Linear(120,84)\n",
    "        self.fc3=nn.Linear(84,10)\n",
    "    \n",
    "    def forward(self,x):\n",
    "        # 2X2 max pooling\n",
    "        x=F.max_pool2d(F.relu(self.conv1(x)),(2,2))\n",
    "        # 如果是方阵,则可以只使用一个数字进行定义\n",
    "        x=F.max_pool2d(F.relu(self.conv2(x)),2)\n",
    "        x=x.view(-1,self.num_flat_features(x))\n",
    "        x=F.relu(self.fc1(x))\n",
    "        x=F.relu(self.fc2(x))\n",
    "        x=self.fc3(x)\n",
    "        return x\n",
    "    \n",
    "    def num_flat_features(self,x):\n",
    "        size=x.size()[1:]# 除去批处理维度的其他所有维度\n",
    "        num_features=1\n",
    "        for s in size:\n",
    "            num_features *=s\n",
    "        return num_features"
   ]
  },
  {
   "cell_type": "code",
   "execution_count": 16,
   "metadata": {},
   "outputs": [
    {
     "output_type": "stream",
     "name": "stdout",
     "text": [
      "Net(\n  (conv1): Conv2d(1, 6, kernel_size=(5, 5), stride=(1, 1))\n  (conv2): Conv2d(6, 16, kernel_size=(5, 5), stride=(1, 1))\n  (fc1): Linear(in_features=400, out_features=120, bias=True)\n  (fc2): Linear(in_features=120, out_features=84, bias=True)\n  (fc3): Linear(in_features=84, out_features=10, bias=True)\n)\n"
     ]
    }
   ],
   "source": [
    "net =Net()\n",
    "print(net)"
   ]
  },
  {
   "cell_type": "code",
   "execution_count": 17,
   "metadata": {},
   "outputs": [
    {
     "output_type": "stream",
     "name": "stdout",
     "text": [
      "10\ntorch.Size([6, 1, 5, 5])\n"
     ]
    }
   ],
   "source": [
    "params=list(net.parameters())\n",
    "print(len(params))\n",
    "print(params[0].size()) #conv1's .weight"
   ]
  },
  {
   "cell_type": "code",
   "execution_count": 19,
   "metadata": {},
   "outputs": [
    {
     "output_type": "stream",
     "name": "stdout",
     "text": [
      "tensor([[-0.0857,  0.1251, -0.0558,  0.0736,  0.0611, -0.0085,  0.1574,  0.0733,\n          0.1089,  0.1139]], grad_fn=<AddmmBackward>)\n"
     ]
    }
   ],
   "source": [
    "# 尝试一个随机的 32x32 的输入。注意:这个网络 (LeNet）的期待输入是 32x32 的张量。如果使用 MNIST 数据集来训练这个网络，要把图片大小重新调整到 32x32\n",
    "input =torch.randn(1,1,32,32)\n",
    "out=net(input)\n",
    "print(out)"
   ]
  },
  {
   "cell_type": "code",
   "execution_count": 20,
   "metadata": {},
   "outputs": [],
   "source": [
    "# 清零所有参数的梯度缓存，然后进行随机梯度的反向传播\n",
    "net.zero_grad()\n",
    "out.backward(torch.randn(1,10))"
   ]
  },
  {
   "cell_type": "code",
   "execution_count": 23,
   "metadata": {},
   "outputs": [
    {
     "output_type": "stream",
     "name": "stdout",
     "text": [
      "原值\ntensor([ 0.1739,  0.2270, -0.6012,  0.1491, -0.3252, -0.4563,  0.4872, -0.1345,\n        -1.0956, -0.6316])\n修正后值\ntensor([[ 0.1739,  0.2270, -0.6012,  0.1491, -0.3252, -0.4563,  0.4872, -0.1345,\n         -1.0956, -0.6316]])\ntensor(0.2889, grad_fn=<MseLossBackward>)\n"
     ]
    }
   ],
   "source": [
    "# 一个损失函数接受一对(output, target)作为输入，计算一个值来估计网络的输出和目标值相差多少。\n",
    "\n",
    "# nn包中有很多不同的损失函数。nn.MSELoss是比较简单的一种，它计算输出和目标的均方误差(mean-squared error）。\n",
    "output=net(input)\n",
    "target=torch.randn(10) # 本例子中使用模拟数据\n",
    "print(\"原值\")\n",
    "print(target)\n",
    "target=target.view(1,-1) #使目标值与数据值尺寸一致\n",
    "print(\"修正后值\")\n",
    "print(target)\n",
    "criterion=nn.MSELoss() #是比较简单的一种，它计算输出和目标的均方误差\n",
    "\n",
    "loss = criterion(output,target)\n",
    "print(loss)"
   ]
  },
  {
   "cell_type": "code",
   "execution_count": 24,
   "metadata": {},
   "outputs": [
    {
     "output_type": "stream",
     "name": "stdout",
     "text": [
      "<MseLossBackward object at 0x7fd7b5474ac0>\n"
     ]
    }
   ],
   "source": [
    "# input -> conv2d -> relu -> maxpool2d -> conv2d -> relu -> maxpool2d\n",
    "    #   -> view -> linear -> relu -> linear -> relu -> linear\n",
    "    #   -> MSELoss\n",
    "    #   -> loss\n",
    "print(loss.grad_fn) #MSELoss"
   ]
  },
  {
   "cell_type": "code",
   "execution_count": 25,
   "metadata": {},
   "outputs": [
    {
     "output_type": "stream",
     "name": "stdout",
     "text": [
      "<AddmmBackward object at 0x7fd7b534b9d0>\n"
     ]
    }
   ],
   "source": [
    "print(loss.grad_fn.next_functions[0][0]) #Linear"
   ]
  },
  {
   "cell_type": "code",
   "execution_count": 26,
   "metadata": {},
   "outputs": [
    {
     "output_type": "stream",
     "name": "stdout",
     "text": [
      "<AccumulateGrad object at 0x7fd7b5474dc0>\n"
     ]
    }
   ],
   "source": [
    "print(loss.grad_fn.next_functions[0][0].next_functions[0][0]) #ReLU"
   ]
  },
  {
   "cell_type": "code",
   "execution_count": 27,
   "metadata": {},
   "outputs": [
    {
     "output_type": "stream",
     "name": "stdout",
     "text": [
      "conv1.bias.grad before backward\ntensor([0., 0., 0., 0., 0., 0.])\nconv1.bias.grad after backward\ntensor([-0.0076,  0.0091,  0.0014,  0.0014,  0.0007, -0.0045])\n"
     ]
    }
   ],
   "source": [
    "# 反向传播\n",
    "net.zero_grad()\n",
    "\n",
    "print('conv1.bias.grad before backward')\n",
    "print(net.conv1.bias.grad)\n",
    "\n",
    "loss.backward()\n",
    "\n",
    "print('conv1.bias.grad after backward')\n",
    "print(net.conv1.bias.grad)"
   ]
  },
  {
   "cell_type": "code",
   "execution_count": 29,
   "metadata": {},
   "outputs": [],
   "source": [
    "# 更新权重\n",
    "# 最简单的更新规则是随机梯度下降法 (SGD）:\n",
    "\n",
    "# weight = weight - learning_rate * gradient\n",
    "learning_rate=0.01\n",
    "for f in net.parameters():\n",
    "    f.data.sub_(f.grad.data*learning_rate)"
   ]
  },
  {
   "cell_type": "code",
   "execution_count": 36,
   "metadata": {},
   "outputs": [],
   "source": [
    "import torch.optim as optim\n",
    "\n",
    "# 创建优化器(optimizer）\n",
    "optimizer = optim.SGD(net.parameters(),lr=0.01)\n",
    "\n",
    "#在训练的迭代中：\n",
    "optimizer.zero_grad() #清零梯度缓存\n",
    "output=net(input)\n",
    "loss=criterion(output,target)\n",
    "loss.backward()\n",
    "optimizer.step() #更新参数"
   ]
  },
  {
   "cell_type": "code",
   "execution_count": null,
   "metadata": {},
   "outputs": [],
   "source": []
  }
 ]
}