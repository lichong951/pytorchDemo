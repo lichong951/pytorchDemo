{
 "metadata": {
  "language_info": {
   "codemirror_mode": {
    "name": "ipython",
    "version": 3
   },
   "file_extension": ".py",
   "mimetype": "text/x-python",
   "name": "python",
   "nbconvert_exporter": "python",
   "pygments_lexer": "ipython3",
   "version": "3.8.5-final"
  },
  "orig_nbformat": 2,
  "kernelspec": {
   "name": "python3",
   "display_name": "Python 3",
   "language": "python"
  }
 },
 "nbformat": 4,
 "nbformat_minor": 2,
 "cells": [
  {
   "cell_type": "code",
   "execution_count": 12,
   "metadata": {},
   "outputs": [],
   "source": [
    "# x.pth 转 onnx\n",
    "import torch\n",
    "import torchvision\n",
    "import torch.onnx\n",
    "import torch.nn as nn\n",
    "import torch.nn.functional as F"
   ]
  },
  {
   "cell_type": "code",
   "execution_count": 6,
   "metadata": {},
   "outputs": [],
   "source": [
    "class Net(nn.Module):\n",
    "    def __init__(self):\n",
    "        super(Net,self).__init__()\n",
    "        self.conv1=nn.Conv2d(3,6,5)\n",
    "        self.pool=nn.MaxPool2d(2,2)\n",
    "        self.conv2=nn.Conv2d(6,16,5)\n",
    "        self.fc1=nn.Linear(16*5*5,120)\n",
    "        self.fc2=nn.Linear(120,84)\n",
    "        self.fc3=nn.Linear(84,10)\n",
    "    \n",
    "    def forward(self,x):\n",
    "        x=self.pool(F.relu(self.conv1(x)))\n",
    "        x=self.pool(F.relu(self.conv2(x)))\n",
    "        x=x.view(-1,16*5*5)\n",
    "        x=F.relu(self.fc1(x))\n",
    "        x=F.relu(self.fc2(x))\n",
    "        x=self.fc3(x)\n",
    "        return x\n"
   ]
  },
  {
   "cell_type": "code",
   "execution_count": 7,
   "metadata": {},
   "outputs": [],
   "source": [
    "net=Net()\n"
   ]
  },
  {
   "cell_type": "code",
   "execution_count": 9,
   "metadata": {},
   "outputs": [
    {
     "output_type": "execute_result",
     "data": {
      "text/plain": [
       "<All keys matched successfully>"
      ]
     },
     "metadata": {},
     "execution_count": 9
    }
   ],
   "source": [
    "#加载模型\n",
    "PATH='./cifar_net_cat_plane_truck_horse.pth'\n",
    "net.load_state_dict(torch.load(PATH))"
   ]
  },
  {
   "cell_type": "code",
   "execution_count": 13,
   "metadata": {},
   "outputs": [
    {
     "output_type": "stream",
     "name": "stdout",
     "text": [
      "graph(%input.1 : Float(4:3072, 3:1024, 32:32, 32:1, requires_grad=0, device=cpu),\n      %1 : Float(6:75, 3:25, 5:5, 5:1, requires_grad=1, device=cpu),\n      %2 : Float(6:1, requires_grad=1, device=cpu),\n      %3 : Float(16:150, 6:25, 5:5, 5:1, requires_grad=1, device=cpu),\n      %4 : Float(16:1, requires_grad=1, device=cpu),\n      %5 : Float(120:400, 400:1, requires_grad=1, device=cpu),\n      %6 : Float(120:1, requires_grad=1, device=cpu),\n      %7 : Float(84:120, 120:1, requires_grad=1, device=cpu),\n      %8 : Float(84:1, requires_grad=1, device=cpu),\n      %9 : Float(10:84, 84:1, requires_grad=1, device=cpu),\n      %10 : Float(10:1, requires_grad=1, device=cpu)):\n  %11 : Float(4:4704, 6:784, 28:28, 28:1, requires_grad=1, device=cpu) = onnx::Conv[dilations=[1, 1], group=1, kernel_shape=[5, 5], pads=[0, 0, 0, 0], strides=[1, 1]](%input.1, %1, %2) # /Users/smart/opt/anaconda3/envs/py3/lib/python3.8/site-packages/torch/nn/modules/conv.py:419:0\n  %12 : Float(4:4704, 6:784, 28:28, 28:1, requires_grad=1, device=cpu) = onnx::Relu(%11) # /Users/smart/opt/anaconda3/envs/py3/lib/python3.8/site-packages/torch/nn/functional.py:1136:0\n  %13 : Float(4:1176, 6:196, 14:14, 14:1, requires_grad=1, device=cpu) = onnx::MaxPool[ceil_mode=0, kernel_shape=[2, 2], pads=[0, 0, 0, 0], strides=[2, 2]](%12) # /Users/smart/opt/anaconda3/envs/py3/lib/python3.8/site-packages/torch/nn/functional.py:585:0\n  %14 : Float(4:1600, 16:100, 10:10, 10:1, requires_grad=1, device=cpu) = onnx::Conv[dilations=[1, 1], group=1, kernel_shape=[5, 5], pads=[0, 0, 0, 0], strides=[1, 1]](%13, %3, %4) # /Users/smart/opt/anaconda3/envs/py3/lib/python3.8/site-packages/torch/nn/modules/conv.py:419:0\n  %15 : Float(4:1600, 16:100, 10:10, 10:1, requires_grad=1, device=cpu) = onnx::Relu(%14) # /Users/smart/opt/anaconda3/envs/py3/lib/python3.8/site-packages/torch/nn/functional.py:1136:0\n  %16 : Float(4:400, 16:25, 5:5, 5:1, requires_grad=1, device=cpu) = onnx::MaxPool[ceil_mode=0, kernel_shape=[2, 2], pads=[0, 0, 0, 0], strides=[2, 2]](%15) # /Users/smart/opt/anaconda3/envs/py3/lib/python3.8/site-packages/torch/nn/functional.py:585:0\n  %17 : Tensor = onnx::Constant[value=  -1  400 [ CPULongType{2} ]]()\n  %18 : Float(4:400, 400:1, requires_grad=1, device=cpu) = onnx::Reshape(%16, %17) # <ipython-input-6-c29797a681ea>:14:0\n  %19 : Float(4:120, 120:1, requires_grad=1, device=cpu) = onnx::Gemm[alpha=1., beta=1., transB=1](%18, %5, %6) # /Users/smart/opt/anaconda3/envs/py3/lib/python3.8/site-packages/torch/nn/functional.py:1690:0\n  %20 : Float(4:120, 120:1, requires_grad=1, device=cpu) = onnx::Relu(%19) # /Users/smart/opt/anaconda3/envs/py3/lib/python3.8/site-packages/torch/nn/functional.py:1136:0\n  %21 : Float(4:84, 84:1, requires_grad=1, device=cpu) = onnx::Gemm[alpha=1., beta=1., transB=1](%20, %7, %8) # /Users/smart/opt/anaconda3/envs/py3/lib/python3.8/site-packages/torch/nn/functional.py:1690:0\n  %22 : Float(4:84, 84:1, requires_grad=1, device=cpu) = onnx::Relu(%21) # /Users/smart/opt/anaconda3/envs/py3/lib/python3.8/site-packages/torch/nn/functional.py:1136:0\n  %23 : Float(4:10, 10:1, requires_grad=1, device=cpu) = onnx::Gemm[alpha=1., beta=1., transB=1](%22, %9, %10) # /Users/smart/opt/anaconda3/envs/py3/lib/python3.8/site-packages/torch/nn/functional.py:1690:0\n  return (%23)\n\n"
     ]
    },
    {
     "output_type": "execute_result",
     "data": {
      "text/plain": [
       "tensor([[-0.6112, -1.2452, -0.7988, -0.0173,  1.4733,  1.0216, -0.2833,  2.4666,\n",
       "         -2.8595,  0.7793],\n",
       "        [-0.4099,  1.6188, -0.2754, -0.1460, -0.7280, -0.8248, -0.1818,  0.2523,\n",
       "         -1.3625,  1.7164],\n",
       "        [-0.1504,  1.4575, -0.0967, -0.2708, -0.7027, -0.6855,  0.3718, -0.5455,\n",
       "         -1.4094,  1.4109],\n",
       "        [ 1.5253,  4.6145, -1.2926, -1.6404, -2.0151, -2.3483, -1.7285, -1.0882,\n",
       "          0.0613,  3.5636]], grad_fn=<AddmmBackward>)"
      ]
     },
     "metadata": {},
     "execution_count": 13
    }
   ],
   "source": [
    "# 通常为模型的forward()方法提供的输入示例\n",
    "dummy_input = torch.randn(4, 3, 32, 32, device='cpu')\n",
    "torch.onnx._export(net, dummy_input, \"cifar_net_cat_plane_truck_horse_2.onnx\", verbose=True, opset_version=11)"
   ]
  },
  {
   "cell_type": "code",
   "execution_count": null,
   "metadata": {},
   "outputs": [],
   "source": []
  }
 ]
}