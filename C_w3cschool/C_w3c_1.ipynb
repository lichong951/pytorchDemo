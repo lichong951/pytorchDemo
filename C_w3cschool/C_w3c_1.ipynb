{
 "metadata": {
  "language_info": {
   "codemirror_mode": {
    "name": "ipython",
    "version": 3
   },
   "file_extension": ".py",
   "mimetype": "text/x-python",
   "name": "python",
   "nbconvert_exporter": "python",
   "pygments_lexer": "ipython3",
   "version": "3.8.5-final"
  },
  "orig_nbformat": 2,
  "kernelspec": {
   "name": "python3",
   "display_name": "Python 3.8.5 64-bit ('py3': conda)",
   "metadata": {
    "interpreter": {
     "hash": "9478656e04aab56d514d0ae391c985e31dd4596e96cf23b2141e219c38c565c9"
    }
   }
  }
 },
 "nbformat": 4,
 "nbformat_minor": 2,
 "cells": [
  {
   "cell_type": "code",
   "execution_count": 4,
   "metadata": {},
   "outputs": [],
   "source": [
    "# Tensor（张量），NumPy 的 ndarray\n",
    "from __future__ import print_function"
   ]
  },
  {
   "cell_type": "code",
   "execution_count": 1,
   "metadata": {},
   "outputs": [],
   "source": [
    "import torch"
   ]
  },
  {
   "cell_type": "code",
   "execution_count": 5,
   "metadata": {},
   "outputs": [
    {
     "output_type": "stream",
     "name": "stdout",
     "text": [
      "tensor([[4.7423e+30, 4.7393e+30, 9.5461e-01],\n        [4.4377e+27, 1.7975e+19, 4.6894e+27],\n        [7.9463e+08, 3.2604e-12, 2.6209e+20],\n        [4.1641e+12, 1.9434e-19, 3.0881e+29],\n        [6.3828e+28, 1.4603e-19, 7.7179e+28]])\n"
     ]
    }
   ],
   "source": [
    "x=torch.empty(5,3)\n",
    "print(x)"
   ]
  },
  {
   "cell_type": "code",
   "execution_count": 7,
   "metadata": {},
   "outputs": [
    {
     "output_type": "stream",
     "name": "stdout",
     "text": [
      "tensor([[0.4066, 0.7591, 0.8275],\n        [0.9739, 0.6145, 0.5907],\n        [0.3834, 0.5699, 0.3305],\n        [0.0403, 0.7996, 0.1233],\n        [0.9444, 0.1741, 0.8302]])\n"
     ]
    }
   ],
   "source": [
    "# 创建一个随机初始化矩阵\n",
    "x=torch.rand(5,3)\n",
    "print(x)"
   ]
  },
  {
   "cell_type": "code",
   "execution_count": 8,
   "metadata": {},
   "outputs": [
    {
     "output_type": "stream",
     "name": "stdout",
     "text": [
      "tensor([[0, 0, 0],\n        [0, 0, 0],\n        [0, 0, 0],\n        [0, 0, 0],\n        [0, 0, 0]])\n"
     ]
    }
   ],
   "source": [
    "# 构造一个填满  0  且数据类型为  long  的矩阵\n",
    "x=torch.zeros(5,3,dtype=torch.long)\n",
    "print(x)"
   ]
  },
  {
   "cell_type": "code",
   "execution_count": 9,
   "metadata": {},
   "outputs": [
    {
     "output_type": "stream",
     "name": "stdout",
     "text": [
      "tensor([5.5000, 3.0000])\n"
     ]
    }
   ],
   "source": [
    "# 直接从数据构造张量\n",
    "x=torch.tensor([5.5,3])\n",
    "print(x)"
   ]
  },
  {
   "cell_type": "code",
   "execution_count": 10,
   "metadata": {},
   "outputs": [
    {
     "output_type": "stream",
     "name": "stdout",
     "text": [
      "tensor([[1., 1., 1.],\n        [1., 1., 1.],\n        [1., 1., 1.],\n        [1., 1., 1.],\n        [1., 1., 1.]], dtype=torch.float64)\n"
     ]
    }
   ],
   "source": [
    "# 或根据现有的  tensor 建立新的  tensor 。除非用户提供新的值，否则这些方法将重用输入张量的属性，例如 dtype 等：\n",
    "x=x.new_ones(5,3,dtype=torch.double)# new_* methods take in sizes\n",
    "print(x)"
   ]
  },
  {
   "cell_type": "code",
   "execution_count": 12,
   "metadata": {},
   "outputs": [
    {
     "output_type": "stream",
     "name": "stdout",
     "text": [
      "tensor([[-1.2912,  0.0624,  1.0032],\n        [ 1.8949,  0.8134,  0.7954],\n        [ 1.4047,  0.4766,  0.6639],\n        [-0.0123, -1.9617, -0.2607],\n        [ 0.6702, -0.2979, -0.1987]])\n"
     ]
    }
   ],
   "source": [
    "x=torch.randn_like(x,dtype=torch.float)# 重载 dtype!\n",
    "print(x)# 结果size一致"
   ]
  },
  {
   "cell_type": "code",
   "execution_count": 13,
   "metadata": {},
   "outputs": [
    {
     "output_type": "stream",
     "name": "stdout",
     "text": [
      "torch.Size([5, 3])\n"
     ]
    }
   ],
   "source": [
    "# 获取张量的形状：\n",
    "print(x.size())\n",
    "# 注意：torch.Size 本质上还是 tuple ，所以支持 tuple 的一切操作。"
   ]
  },
  {
   "cell_type": "code",
   "execution_count": null,
   "metadata": {},
   "outputs": [],
   "source": [
    "# 运算"
   ]
  },
  {
   "cell_type": "code",
   "execution_count": 14,
   "metadata": {},
   "outputs": [
    {
     "output_type": "stream",
     "name": "stdout",
     "text": [
      "tensor([[-0.9041,  0.2302,  1.9319],\n        [ 2.0084,  1.0080,  1.2983],\n        [ 1.9168,  1.1895,  1.1673],\n        [ 0.8150, -1.1821, -0.0899],\n        [ 1.5534,  0.6411,  0.0693]])\n"
     ]
    }
   ],
   "source": [
    "# 加法：形式一\n",
    "y=torch.rand(5,3)\n"
   ]
  },
  {
   "cell_type": "code",
   "execution_count": 15,
   "metadata": {},
   "outputs": [
    {
     "output_type": "stream",
     "name": "stdout",
     "text": [
      "tensor([[0.3870, 0.1679, 0.9286],\n        [0.1135, 0.1946, 0.5029],\n        [0.5121, 0.7130, 0.5035],\n        [0.8273, 0.7797, 0.1708],\n        [0.8832, 0.9390, 0.2680]])\n"
     ]
    }
   ],
   "source": [
    "print(y)"
   ]
  },
  {
   "cell_type": "code",
   "execution_count": 16,
   "metadata": {},
   "outputs": [
    {
     "output_type": "stream",
     "name": "stdout",
     "text": [
      "tensor([[-0.9041,  0.2302,  1.9319],\n        [ 2.0084,  1.0080,  1.2983],\n        [ 1.9168,  1.1895,  1.1673],\n        [ 0.8150, -1.1821, -0.0899],\n        [ 1.5534,  0.6411,  0.0693]])\n"
     ]
    }
   ],
   "source": [
    "print(x+y)"
   ]
  },
  {
   "cell_type": "code",
   "execution_count": 17,
   "metadata": {},
   "outputs": [
    {
     "output_type": "stream",
     "name": "stdout",
     "text": [
      "tensor([[-0.9041,  0.2302,  1.9319],\n        [ 2.0084,  1.0080,  1.2983],\n        [ 1.9168,  1.1895,  1.1673],\n        [ 0.8150, -1.1821, -0.0899],\n        [ 1.5534,  0.6411,  0.0693]])\n"
     ]
    }
   ],
   "source": [
    "# 加法：形式二\n",
    "print(torch.add(x, y))"
   ]
  },
  {
   "cell_type": "code",
   "execution_count": 18,
   "metadata": {},
   "outputs": [
    {
     "output_type": "stream",
     "name": "stdout",
     "text": [
      "tensor([[-0.9041,  0.2302,  1.9319],\n        [ 2.0084,  1.0080,  1.2983],\n        [ 1.9168,  1.1895,  1.1673],\n        [ 0.8150, -1.1821, -0.0899],\n        [ 1.5534,  0.6411,  0.0693]])\n"
     ]
    }
   ],
   "source": [
    "# 加法：给定一个输出张量作为参数\n",
    "result=torch.empty(5,3)\n",
    "torch.add(x,y,out=result)\n",
    "print(result)"
   ]
  },
  {
   "cell_type": "code",
   "execution_count": 19,
   "metadata": {},
   "outputs": [
    {
     "output_type": "stream",
     "name": "stdout",
     "text": [
      "tensor([[0.3870, 0.1679, 0.9286],\n        [0.1135, 0.1946, 0.5029],\n        [0.5121, 0.7130, 0.5035],\n        [0.8273, 0.7797, 0.1708],\n        [0.8832, 0.9390, 0.2680]])\n"
     ]
    }
   ],
   "source": [
    "# 加法：原位/原地操作（in-place\n",
    "#adds x to y\n",
    "y.add(x)\n",
    "print(y)\n",
    "# 注意：任何一个就地改变张量的操作后面都固定一个  _  。例如 x.copy_（y）， x.t_（） 将更改x"
   ]
  },
  {
   "cell_type": "code",
   "execution_count": 20,
   "metadata": {},
   "outputs": [
    {
     "output_type": "stream",
     "name": "stdout",
     "text": [
      "tensor([ 0.0624,  0.8134,  0.4766, -1.9617, -0.2979])\n"
     ]
    }
   ],
   "source": [
    "# 可以使用像标准的 NumPy 一样的各种索引操作：\n",
    "print(x[:,1])\n",
    "\n",
    "# tensor([[-1.2912,  0.0624,  1.0032],\n",
    "        # [ 1.8949,  0.8134,  0.7954],\n",
    "        # [ 1.4047,  0.4766,  0.6639],\n",
    "        # [-0.0123, -1.9617, -0.2607],\n",
    "        # [ 0.6702, -0.2979, -0.1987]])"
   ]
  },
  {
   "cell_type": "code",
   "execution_count": 21,
   "metadata": {},
   "outputs": [
    {
     "output_type": "stream",
     "name": "stdout",
     "text": [
      "torch.Size([4, 4]) torch.Size([16]) torch.Size([2, 8])\n"
     ]
    }
   ],
   "source": [
    "# 改变形状：如果想改变形状，可以使用  torch.view\n",
    "x=torch.randn(4,4)\n",
    "y=x.view(16)\n",
    "z=x.view(-1,8)# the size -1 is inferred from other dimensions\n",
    "print(x.size(),y.size(),z.size())"
   ]
  },
  {
   "cell_type": "code",
   "execution_count": 23,
   "metadata": {},
   "outputs": [
    {
     "output_type": "stream",
     "name": "stdout",
     "text": [
      "tensor([-1.9829])\n-1.9828834533691406\n"
     ]
    }
   ],
   "source": [
    "# 如果是仅包含一个元素的 tensor，可以使用   .item（）  来得到对应的 python 数值\n",
    "x=torch.randn(1)\n",
    "print(x)\n",
    "print(x.item())\n",
    "# 后续阅读： 超过100种 tensor的运算操作，包括转置，索引，切片，数学运算，线性代数，随机数等，具体访问"
   ]
  },
  {
   "cell_type": "code",
   "execution_count": 24,
   "metadata": {},
   "outputs": [
    {
     "output_type": "stream",
     "name": "stdout",
     "text": [
      "tensor([1., 1., 1., 1., 1.])\n"
     ]
    }
   ],
   "source": [
    "# 将 torch 的 Tensor 转换为 NumPy 数组\n",
    "a=torch.ones(5)\n",
    "print(a)"
   ]
  },
  {
   "cell_type": "code",
   "execution_count": 25,
   "metadata": {},
   "outputs": [
    {
     "output_type": "stream",
     "name": "stdout",
     "text": [
      "[1. 1. 1. 1. 1.]\n"
     ]
    }
   ],
   "source": [
    "b=a.numpy()\n",
    "print(b)"
   ]
  },
  {
   "cell_type": "code",
   "execution_count": 26,
   "metadata": {},
   "outputs": [
    {
     "output_type": "stream",
     "name": "stdout",
     "text": [
      "tensor([2., 2., 2., 2., 2.])\n[2. 2. 2. 2. 2.]\n"
     ]
    }
   ],
   "source": [
    "# 看 NumPy 细分是如何改变里面的值的\n",
    "a.add_(1)\n",
    "print(a)\n",
    "print(b)"
   ]
  },
  {
   "cell_type": "code",
   "execution_count": 27,
   "metadata": {},
   "outputs": [
    {
     "output_type": "stream",
     "name": "stdout",
     "text": [
      "[2. 2. 2. 2. 2.]\ntensor([2., 2., 2., 2., 2.], dtype=torch.float64)\n"
     ]
    }
   ],
   "source": [
    "# 将 NumPy 数组转化为Torch张量\n",
    "import numpy as np\n",
    "a=np.ones(5)\n",
    "b=torch.from_numpy(a)\n",
    "np.add(a,1,out=a)\n",
    "print(a)\n",
    "print(b)"
   ]
  },
  {
   "cell_type": "code",
   "execution_count": 29,
   "metadata": {},
   "outputs": [
    {
     "output_type": "stream",
     "name": "stdout",
     "text": [
      "暂时不支持CUDA\n"
     ]
    }
   ],
   "source": [
    "# CUDA上的张量\n",
    "if torch.cuda.is_available():\n",
    "    device=torch.device(\"cuda\")# a CUDA device object\n",
    "    y=torch.ones_like(x,device=device)# 直接在GPU上创建tensor\n",
    "    x=x.to(devices) # 或者使用`.to(\"cuda\")`方法\n",
    "    z=x+y\n",
    "    print(z)\n",
    "    print(z.to(\"cpu\",torch.double)) # `.to`也能在移动时改变dtype\n",
    "else:\n",
    "    print(\"暂时不支持CUDA\")"
   ]
  },
  {
   "cell_type": "code",
   "execution_count": null,
   "metadata": {},
   "outputs": [],
   "source": []
  }
 ]
}